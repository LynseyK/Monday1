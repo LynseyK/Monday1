{
 "cells": [
  {
   "cell_type": "code",
   "execution_count": 5,
   "metadata": {},
   "outputs": [
    {
     "name": "stdout",
     "output_type": "stream",
     "text": [
      "Welcome to our Mad Lib! Enter \"r\" to see a random possible outcome.\n",
      "Input 148 at anytime to end the game.\n",
      "Enter an exclamation (for example \"ah\"): \n",
      "Enter an adverb (for example \"silently\"): \n",
      "Enter a singular noun (for example \"cat\"): \n",
      "Enter an adjective (for example \"kind\"): \n",
      "\"Ah!\" he said silently as he jumped into his convertible cat and drove off with his kind wife.\n"
     ]
    }
   ],
   "source": [
    "import random\n",
    " \n",
    "exclamation = [\"ouch\", \"wow\", \"hooray\", \"yikes\", \"ah\", \"oops\", \"eureka\", \"ugh\", \"aha\", \"yay\"]\n",
    "adverb = [\"stupidly\", \"quickly\", \"horribly\", \"carefully\", \"gracefully\", \"silently\", \"lazily\", \"loudly\", \"awkwardly\", \"slowly\"]\n",
    "noun = [\"cat\", \"dog\", \"car\", \"tree\", \"house\", \"computer\", \"book\", \"phone\", \"ball\", \"pizza\"]\n",
    "adjective = [\"brave\", \"smart\", \"fast\", \"strong\", \"funny\", \"beautiful\", \"lazy\", \"happy\", \"angry\", \"kind\"]\n",
    " \n",
    "types_of_wanted_words = [exclamation, adverb, noun, adjective]\n",
    " \n",
    "print(\"Welcome to our Mad Lib! Enter \\\"r\\\" to see a random possible outcome.\")\n",
    "user_input = input(\"Do you want to play? (y/n/r)\")\n",
    "stored_words = []\n",
    "wanted_word_types = [\"n exclamation\", \"n adverb\", \" singular noun\", \"n adjective\"]\n",
    " \n",
    "while True:\n",
    " \n",
    "    if user_input == \"148\":\n",
    "        print(\"Game kill switch activated, have a great day!\")\n",
    "        break\n",
    " \n",
    "    if user_input.lower() == \"n\":\n",
    "        print(\"Game invite not accepted, have a great day!\")\n",
    " \n",
    "    if user_input.lower() == \"r\":\n",
    "        print('\"' + random.choice(exclamation).capitalize() + '!\"' + \" he said \" + random.choice(adverb) + \" as he jumped into his convertible \" + random.choice(noun) + \" and drove off with his \" + random.choice(adjective) + \" wife.\")\n",
    " \n",
    "    if user_input.lower() == \"y\":\n",
    "        print(\"Input 148 at anytime to end the game.\")\n",
    "\n",
    "        for i in range(len(wanted_word_types)):\n",
    "\n",
    "            random_example = random.choice(types_of_wanted_words[i])\n",
    "            print(f\"Enter a{wanted_word_types[i]} (for example \\\"{random_example}\\\"): \")\n",
    " \n",
    "            if user_input == \"148\":\n",
    "                print(\"Game kill switch activated, have a great day!\")\n",
    "                break\n",
    " \n",
    "            user_input = input(f\"Enter a{wanted_word_types[i]} (for example \\\"{random_example}\\\"): \")\n",
    "            stored_words.append(user_input)\n",
    "\n",
    "        break\n",
    " \n",
    "    else:\n",
    "        break\n",
    "   \n",
    "# Check if the user finished the game\n",
    "if len(stored_words) == len(wanted_word_types):\n",
    "    print(f\"\\\"{stored_words[0].capitalize()}!\\\" he said {stored_words[1]} as he jumped into his convertible {stored_words[2]} and drove off with his {stored_words[3]} wife.\")"
   ]
  }
 ],
 "metadata": {
  "kernelspec": {
   "display_name": "Python 3",
   "language": "python",
   "name": "python3"
  },
  "language_info": {
   "codemirror_mode": {
    "name": "ipython",
    "version": 3
   },
   "file_extension": ".py",
   "mimetype": "text/x-python",
   "name": "python",
   "nbconvert_exporter": "python",
   "pygments_lexer": "ipython3",
   "version": "3.12.0"
  }
 },
 "nbformat": 4,
 "nbformat_minor": 2
}
