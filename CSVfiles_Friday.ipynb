{
 "cells": [
  {
   "cell_type": "code",
   "execution_count": 4,
   "metadata": {},
   "outputs": [
    {
     "name": "stdout",
     "output_type": "stream",
     "text": [
      "mango,banana\n",
      "\n",
      "pawpaw,carrot\n",
      "\n",
      "orange,yam\n",
      "\n"
     ]
    }
   ],
   "source": [
    "## read from a txt file\n",
    "with open('test.txt', 'r') as file:\n",
    "    for line in file:\n",
    "        print(line)\n"
   ]
  },
  {
   "cell_type": "code",
   "execution_count": 5,
   "metadata": {},
   "outputs": [
    {
     "name": "stdout",
     "output_type": "stream",
     "text": [
      "banana mango\n",
      "carrot pawpaw\n",
      "yam orange\n"
     ]
    }
   ],
   "source": [
    "##mango,banana\n",
    "\n",
    "##pawpaw,carrot\n",
    "\n",
    "## orange,yam\n",
    "with open('test.txt', 'r') as file:\n",
    "    for line in file:\n",
    "        line = line.split(',')\n",
    "        print(line[1].rstrip(), line[0])"
   ]
  },
  {
   "cell_type": "code",
   "execution_count": 22,
   "metadata": {},
   "outputs": [
    {
     "name": "stdout",
     "output_type": "stream",
     "text": [
      "yes\n"
     ]
    }
   ],
   "source": [
    "with open('snowing.csv', 'r') as file:\n",
    "\n",
    "    for line in file:\n",
    "        line = line.strip().split(',')  # strip() to remove trailing newline\n",
    "        Attendance = input(f\"Is {line[0].rstrip()}, {line[1]} in class today? yes/no\").lower()\n",
    "    if Attendance == \"yes\":   \n",
    "        print(\"yes\")\n",
    "    elif Attendance == \"no\":\n",
    "        print(\"no\")"
   ]
  },
  {
   "cell_type": "code",
   "execution_count": 23,
   "metadata": {},
   "outputs": [
    {
     "name": "stdout",
     "output_type": "stream",
     "text": [
      "yes\n",
      "no\n",
      "yes\n"
     ]
    }
   ],
   "source": [
    "with open('snowing.csv', 'r') as file:\n",
    "    for row in file:\n",
    "        line = row.strip().split(',')  # strip trailing newline, then split by comma\n",
    "        \n",
    "        # Safety check in case a line doesn't have 2 columns\n",
    "        if len(line) < 2:\n",
    "            continue  # skip lines that don't have enough data\n",
    "        \n",
    "        # Prompt user\n",
    "        Attendance = input(f\"Is {line[0].rstrip()}, {line[1]} in class today? yes/no: \").lower()\n",
    "        \n",
    "        # Decision logic is inside the loop\n",
    "        if Attendance == \"yes\":\n",
    "            open('snowing.csv', 'a') as file:\n",
    "        elif Attendance == \"no\":\n",
    "            print(\"no\")\n",
    "        else:\n",
    "            print(\"Invalid response. Please type yes or no.\")\n"
   ]
  },
  {
   "cell_type": "code",
   "execution_count": 7,
   "metadata": {},
   "outputs": [],
   "source": [
    "## writing or appending to a file\n",
    "def save_to_file(first_name, surname, age):\n",
    "    with open('new_data.txt', 'w')as f:\n",
    "        line = ','.join([first_name, surname, age])\n",
    "        f.write(line+ '\\n')\n",
    "        f.close()\n",
    "first_name = input('Enter your first name: ')\n",
    "surname = input('Enter your surname: ')\n",
    "age = input('How old are you? ')\n",
    "save_to_file(first_name, surname, age)"
   ]
  },
  {
   "cell_type": "code",
   "execution_count": 9,
   "metadata": {},
   "outputs": [
    {
     "name": "stdout",
     "output_type": "stream",
     "text": [
      "mango banana\n",
      "pawpaw carrot\n",
      "orange yam\n"
     ]
    }
   ],
   "source": [
    "##readind froma csv file\n",
    "import csv\n",
    "with open('csvdata.csv','r') as csvfile:\n",
    "    reader = csv.reader(csvfile)\n",
    "    for line in reader:\n",
    "        print(line[0],line[1])"
   ]
  },
  {
   "cell_type": "code",
   "execution_count": 64,
   "metadata": {},
   "outputs": [
    {
     "name": "stdout",
     "output_type": "stream",
     "text": [
      "Invalid response. Please type yes or no.\n"
     ]
    }
   ],
   "source": [
    "with open('snowing.csv', 'r') as file:\n",
    "    try:\n",
    "        for row in file:\n",
    "            line = row.strip().split(',')\n",
    "\n",
    "            # Ask for attendance\n",
    "            attendance = input(\n",
    "                f\"Is {line[0].rstrip()}, {line[1]} in class today? yes/no: \"\n",
    "            ).lower()\n",
    "\n",
    "            # Decision logic is INSIDE the loop\n",
    "            if attendance == \"yes\" or attendance == \"no\":\n",
    "                with open('updated_snowing.csv', mode='w', newline='') as csv_file:\n",
    "                    character_writer = csv.writer(\n",
    "                        csv_file, delimiter=',', quotechar='\"', quoting=csv.QUOTE_MINIMAL\n",
    "                    )\n",
    "                    character_writer.writerow([line[0].rstrip(), line[1], attendance])\n",
    "            else:\n",
    "                print(\"Invalid response. Please type yes or no.\")\n",
    "\n",
    "    except Exception as e:\n",
    "        print(e)\n"
   ]
  },
  {
   "cell_type": "code",
   "execution_count": 65,
   "metadata": {},
   "outputs": [
    {
     "ename": "SyntaxError",
     "evalue": "incomplete input (3138621238.py, line 25)",
     "output_type": "error",
     "traceback": [
      "\u001b[1;36m  Cell \u001b[1;32mIn[65], line 25\u001b[1;36m\u001b[0m\n\u001b[1;33m    \u001b[0m\n\u001b[1;37m    ^\u001b[0m\n\u001b[1;31mSyntaxError\u001b[0m\u001b[1;31m:\u001b[0m incomplete input\n"
     ]
    }
   ],
   "source": [
    "register= 'snowing.csv'\n",
    "todays_register = 'updated.snowing.csv'\n",
    "\n",
    "with open(register, 'r') as file:\n",
    "    try:\n",
    "        for row in file:\n",
    "            line = row.strip().split(',')\n",
    "\n",
    "            # Ask for attendance\n",
    "            attendance = input(\n",
    "                f\"Is {line[0].rstrip()}, {line[1]} in class today? yes/no: \"\n",
    "            ).lower()\n",
    "\n",
    "            # Decision logic is INSIDE the loop\n",
    "            if attendance == \"yes\" or attendance == \"no\":\n",
    "                with open(todays_register, mode='w', newline='') as csv_file:\n",
    "                    character_writer = csv.writer(\n",
    "                        csv_file, delimiter=',', quotechar='\"', quoting=csv.QUOTE_MINIMAL\n",
    "                    )\n",
    "                    character_writer.writerow([line[0].rstrip(), line[1], attendance])\n",
    "            else:\n",
    "                print(\"Invalid response. Please type yes or no.\")\n",
    "        \n",
    "\n",
    "\n"
   ]
  },
  {
   "cell_type": "code",
   "execution_count": 67,
   "metadata": {},
   "outputs": [
    {
     "name": "stdout",
     "output_type": "stream",
     "text": [
      "Invalid response. Please type yes or no.\n",
      "Invalid response. Please type yes or no.\n",
      "Invalid response. Please type yes or no.\n"
     ]
    }
   ],
   "source": [
    "import csv\n",
    "\n",
    "register = 'snowing.csv'\n",
    "todays_register = 'updated.snowing.csv'\n",
    "\n",
    "try:\n",
    "    with open(register, 'r') as infile, \\\n",
    "         open(todays_register, 'w', newline='') as outfile:\n",
    "\n",
    "        writer = csv.writer(outfile, delimiter=',', quotechar='\"', quoting=csv.QUOTE_MINIMAL)\n",
    "\n",
    "        for row in infile:\n",
    "            line = row.strip().split(',')\n",
    "            if len(line) < 2:\n",
    "                continue  # skip bad lines\n",
    "\n",
    "            attendance = input(f\"Is {line[0]}, {line[1]} in class today? yes/no: \").lower()\n",
    "            if attendance !=\"yes\" or attendance !=\"no\":\n",
    "                print(\"Invalid response. Please type yes or no.\")\n",
    "                continue\n",
    "            \n",
    "            else:\n",
    "                writer.writerow([line[0].rstrip(), line[1].rstrip()])\n",
    "            \n",
    "except Exception as e:\n",
    "    print(f\"Error: {e}\")\n"
   ]
  },
  {
   "cell_type": "code",
   "execution_count": 68,
   "metadata": {},
   "outputs": [],
   "source": [
    "import csv\n",
    "\n",
    "# Open the original CSV file\n",
    "with open('snowing.csv', 'r') as file:\n",
    "    reader = csv.reader(file)\n",
    "    rows = list(reader)\n",
    "\n",
    "# Open the new CSV file to write the updated information\n",
    "with open('updated_snowing.csv', mode='w', newline='') as csv_file:\n",
    "    writer = csv.writer(csv_file)\n",
    "    \n",
    "    for row in rows:\n",
    "        # Ask for attendance\n",
    "        attendance = input(f\"Is {row[0].rstrip()}, {row[1]} in class today? yes/no: \").lower()\n",
    "        \n",
    "        # Validate the attendance input\n",
    "        while attendance not in [\"yes\", \"no\"]:\n",
    "            print(\"Invalid response. Please type yes or no.\")\n",
    "            attendance = input(f\"Is {row[0].rstrip()}, {row[1]} in class today? yes/no: \").lower()\n",
    "        \n",
    "        # Write the updated information to the new CSV file\n",
    "        writer.writerow([row[0].rstrip(), row[1], attendance])"
   ]
  },
  {
   "cell_type": "code",
   "execution_count": 74,
   "metadata": {},
   "outputs": [],
   "source": [
    "## writing to a csv file\n",
    "with open('snowing.csv', mode='a') as csv_file:\n",
    "    character_writer = csv.writer(csv_file, delimiter= ',', quotechar= '\"', quoting=csv.QUOTE_MINIMAL)\n",
    "    character_writer.writerow(['Amy','GRU'])\n",
    "    character_writer.writerow(['Abayomi','Nice'])\n",
    "    character_writer.writerow(['John','Doe'])\n"
   ]
  }
 ],
 "metadata": {
  "kernelspec": {
   "display_name": "Python 3",
   "language": "python",
   "name": "python3"
  },
  "language_info": {
   "codemirror_mode": {
    "name": "ipython",
    "version": 3
   },
   "file_extension": ".py",
   "mimetype": "text/x-python",
   "name": "python",
   "nbconvert_exporter": "python",
   "pygments_lexer": "ipython3",
   "version": "3.12.0"
  }
 },
 "nbformat": 4,
 "nbformat_minor": 2
}
