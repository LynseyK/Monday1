{
 "cells": [
  {
   "cell_type": "code",
   "execution_count": 7,
   "metadata": {},
   "outputs": [],
   "source": [
    "import numpy as np\n",
    "\n"
   ]
  },
  {
   "cell_type": "code",
   "execution_count": 8,
   "metadata": {},
   "outputs": [
    {
     "name": "stdout",
     "output_type": "stream",
     "text": [
      "[1 2 3]\n"
     ]
    }
   ],
   "source": [
    "## create a 1 dimensional array\n",
    "my1dArray = np.array([1,2,3,])\n",
    "print(my1dArray)\n"
   ]
  },
  {
   "cell_type": "code",
   "execution_count": 9,
   "metadata": {},
   "outputs": [
    {
     "name": "stdout",
     "output_type": "stream",
     "text": [
      "[[1 2 3]\n",
      " [4 5 6]]\n"
     ]
    }
   ],
   "source": [
    "## 2 dimensional array\n",
    "my2dArray = np.array([[1,2,3],[4,5,6]])\n",
    "print(my2dArray)"
   ]
  },
  {
   "cell_type": "code",
   "execution_count": 11,
   "metadata": {},
   "outputs": [
    {
     "name": "stdout",
     "output_type": "stream",
     "text": [
      "[[1. 2. 3.]\n",
      " [4. 5. 6.]]\n"
     ]
    }
   ],
   "source": [
    "## creating an aray specifying the data type\n",
    "my2dArrayFloat= np.array([[1,2,3],[4,5,6]], dtype='float')\n",
    "print(my2dArrayFloat)"
   ]
  },
  {
   "cell_type": "code",
   "execution_count": 15,
   "metadata": {},
   "outputs": [
    {
     "data": {
      "text/plain": [
       "dtype('float64')"
      ]
     },
     "execution_count": 15,
     "metadata": {},
     "output_type": "execute_result"
    }
   ],
   "source": [
    "## confirming a data type\n",
    "my2dArrayFloat.dtype"
   ]
  },
  {
   "cell_type": "code",
   "execution_count": 6,
   "metadata": {},
   "outputs": [
    {
     "name": "stdout",
     "output_type": "stream",
     "text": [
      "Collecting numpy\n",
      "  Obtaining dependency information for numpy from https://files.pythonhosted.org/packages/17/c1/c31d3637f2641e25c7a19adf2ae822fdaf4ddd198b05d79a92a9ce7cb63e/numpy-2.2.1-cp312-cp312-win_amd64.whl.metadata\n",
      "  Downloading numpy-2.2.1-cp312-cp312-win_amd64.whl.metadata (60 kB)\n",
      "     ---------------------------------------- 0.0/60.8 kB ? eta -:--:--\n",
      "     ------------ ------------------------- 20.5/60.8 kB 330.3 kB/s eta 0:00:01\n",
      "     ------------------------- ------------ 41.0/60.8 kB 393.8 kB/s eta 0:00:01\n",
      "     -------------------------------------- 60.8/60.8 kB 404.8 kB/s eta 0:00:00\n",
      "Downloading numpy-2.2.1-cp312-cp312-win_amd64.whl (12.6 MB)\n",
      "   ---------------------------------------- 0.0/12.6 MB ? eta -:--:--\n",
      "   ---------------------------------------- 0.1/12.6 MB 2.2 MB/s eta 0:00:06\n",
      "    --------------------------------------- 0.3/12.6 MB 3.5 MB/s eta 0:00:04\n",
      "   - -------------------------------------- 0.6/12.6 MB 4.9 MB/s eta 0:00:03\n",
      "   -- ------------------------------------- 0.8/12.6 MB 4.5 MB/s eta 0:00:03\n",
      "   --- ------------------------------------ 1.2/12.6 MB 5.7 MB/s eta 0:00:03\n",
      "   ---- ----------------------------------- 1.4/12.6 MB 5.0 MB/s eta 0:00:03\n",
      "   ----- ---------------------------------- 1.7/12.6 MB 5.4 MB/s eta 0:00:03\n",
      "   ------ --------------------------------- 2.1/12.6 MB 5.9 MB/s eta 0:00:02\n",
      "   ------- -------------------------------- 2.3/12.6 MB 5.6 MB/s eta 0:00:02\n",
      "   -------- ------------------------------- 2.7/12.6 MB 6.0 MB/s eta 0:00:02\n",
      "   --------- ------------------------------ 3.0/12.6 MB 5.9 MB/s eta 0:00:02\n",
      "   ---------- ----------------------------- 3.3/12.6 MB 6.1 MB/s eta 0:00:02\n",
      "   ----------- ---------------------------- 3.7/12.6 MB 6.4 MB/s eta 0:00:02\n",
      "   ------------ --------------------------- 4.0/12.6 MB 6.4 MB/s eta 0:00:02\n",
      "   ------------- -------------------------- 4.4/12.6 MB 6.3 MB/s eta 0:00:02\n",
      "   --------------- ------------------------ 4.8/12.6 MB 6.5 MB/s eta 0:00:02\n",
      "   ---------------- ----------------------- 5.1/12.6 MB 6.5 MB/s eta 0:00:02\n",
      "   ---------------- ----------------------- 5.4/12.6 MB 6.4 MB/s eta 0:00:02\n",
      "   ------------------ --------------------- 5.7/12.6 MB 6.5 MB/s eta 0:00:02\n",
      "   ------------------ --------------------- 5.9/12.6 MB 6.4 MB/s eta 0:00:02\n",
      "   ------------------- -------------------- 6.2/12.6 MB 6.4 MB/s eta 0:00:01\n",
      "   --------------------- ------------------ 6.7/12.6 MB 6.7 MB/s eta 0:00:01\n",
      "   ---------------------- ----------------- 7.1/12.6 MB 6.8 MB/s eta 0:00:01\n",
      "   ------------------------ --------------- 7.7/12.6 MB 6.9 MB/s eta 0:00:01\n",
      "   ------------------------- -------------- 8.1/12.6 MB 7.0 MB/s eta 0:00:01\n",
      "   -------------------------- ------------- 8.4/12.6 MB 7.1 MB/s eta 0:00:01\n",
      "   ---------------------------- ----------- 8.8/12.6 MB 7.1 MB/s eta 0:00:01\n",
      "   ----------------------------- ---------- 9.3/12.6 MB 7.2 MB/s eta 0:00:01\n",
      "   ------------------------------- -------- 9.8/12.6 MB 7.3 MB/s eta 0:00:01\n",
      "   -------------------------------- ------- 10.2/12.6 MB 7.3 MB/s eta 0:00:01\n",
      "   --------------------------------- ------ 10.4/12.6 MB 7.4 MB/s eta 0:00:01\n",
      "   ---------------------------------- ----- 10.8/12.6 MB 7.5 MB/s eta 0:00:01\n",
      "   ----------------------------------- ---- 11.2/12.6 MB 7.6 MB/s eta 0:00:01\n",
      "   ------------------------------------ --- 11.6/12.6 MB 7.8 MB/s eta 0:00:01\n",
      "   ------------------------------------- -- 11.8/12.6 MB 7.6 MB/s eta 0:00:01\n",
      "   ------------------------------------- -- 11.8/12.6 MB 7.6 MB/s eta 0:00:01\n",
      "   ---------------------------------------  12.4/12.6 MB 7.7 MB/s eta 0:00:01\n",
      "   ---------------------------------------  12.6/12.6 MB 7.9 MB/s eta 0:00:01\n",
      "   ---------------------------------------- 12.6/12.6 MB 7.6 MB/s eta 0:00:00\n",
      "Installing collected packages: numpy\n",
      "Successfully installed numpy-2.2.1\n",
      "Note: you may need to restart the kernel to use updated packages.\n"
     ]
    },
    {
     "name": "stderr",
     "output_type": "stream",
     "text": [
      "  WARNING: The scripts f2py.exe and numpy-config.exe are installed in 'c:\\Users\\lynsk\\AppData\\Local\\Programs\\Python\\Python312\\Scripts' which is not on PATH.\n",
      "  Consider adding this directory to PATH or, if you prefer to suppress this warning, use --no-warn-script-location.\n",
      "\n",
      "[notice] A new release of pip is available: 23.2.1 -> 24.3.1\n",
      "[notice] To update, run: python.exe -m pip install --upgrade pip\n"
     ]
    }
   ],
   "source": [
    "pip install numpy"
   ]
  },
  {
   "cell_type": "code",
   "execution_count": 17,
   "metadata": {},
   "outputs": [
    {
     "name": "stdout",
     "output_type": "stream",
     "text": [
      "[[1. 2. 3.]\n",
      " [4. 5. 6.]]\n"
     ]
    }
   ],
   "source": [
    "## creating a 2d array with data type in another form \n",
    "my2dArrayFloat32 = np.array([[1,2,3],[4,5,6]], dtype=np.float16)\n",
    "print(my2dArrayFloat32)"
   ]
  },
  {
   "cell_type": "code",
   "execution_count": 18,
   "metadata": {},
   "outputs": [
    {
     "data": {
      "text/plain": [
       "dtype('float16')"
      ]
     },
     "execution_count": 18,
     "metadata": {},
     "output_type": "execute_result"
    }
   ],
   "source": [
    "## confirming a data type\n",
    "my2dArrayFloat32.dtype"
   ]
  },
  {
   "cell_type": "code",
   "execution_count": 25,
   "metadata": {},
   "outputs": [
    {
     "name": "stdout",
     "output_type": "stream",
     "text": [
      "[['1' 'aaaaa' '3']\n",
      " ['4' '5' 'zzzzzz']]\n"
     ]
    }
   ],
   "source": [
    "## creating an array with multiple data type \n",
    "charArray1 = np.array([(1,'aaaaa',3),(4,5,'zzzzzz')], dtype='U6')\n",
    "print(charArray1)"
   ]
  },
  {
   "cell_type": "code",
   "execution_count": null,
   "metadata": {},
   "outputs": [],
   "source": [
    "## numpy initialisation"
   ]
  },
  {
   "cell_type": "code",
   "execution_count": 32,
   "metadata": {},
   "outputs": [
    {
     "name": "stdout",
     "output_type": "stream",
     "text": [
      "[['3' 'yyyy' '7']\n",
      " ['27' 'lllllllll' '32']]\n"
     ]
    }
   ],
   "source": [
    "## create an array \n",
    "## indicate the data type to the array\n",
    "## and print the array and print the dtype\n",
    "\n",
    "mynewArray = np.array([(3, 'yyyy', 7),(27, 'lllllllll', 32)], dtype='U21')\n",
    "print(mynewArray)"
   ]
  },
  {
   "cell_type": "code",
   "execution_count": 33,
   "metadata": {},
   "outputs": [
    {
     "name": "stdout",
     "output_type": "stream",
     "text": [
      "[[0. 0. 0.]\n",
      " [0. 0. 0.]]\n"
     ]
    }
   ],
   "source": [
    "## numpy initialisation\n",
    "number_rows = 2\n",
    "number_columns = 3\n",
    "\n",
    "## creating arrays specifying the data type\n",
    "array0s = np.zeros((number_rows, number_columns)), dtype=np.int16\n",
    "print(array0s)"
   ]
  },
  {
   "cell_type": "code",
   "execution_count": 47,
   "metadata": {},
   "outputs": [
    {
     "name": "stdout",
     "output_type": "stream",
     "text": [
      "[[1 1 1]\n",
      " [1 1 1]\n",
      " [1 1 1]]\n"
     ]
    }
   ],
   "source": [
    "## create an array of ones\n",
    "number_rows = 2\n",
    "number_columns = 3\n",
    "array1s = np.ones((number_rows, number_columns), dtype=np.int16)\n",
    "print(array1s)"
   ]
  },
  {
   "cell_type": "code",
   "execution_count": 42,
   "metadata": {},
   "outputs": [
    {
     "name": "stdout",
     "output_type": "stream",
     "text": [
      "[[50. 50. 50.]\n",
      " [50. 50. 50.]]\n"
     ]
    }
   ],
   "source": [
    "## create an array of 50\n",
    "array50s = 50 * np.ones((number_rows, number_columns), dtype='float32')\n",
    "print(array50s)"
   ]
  },
  {
   "cell_type": "code",
   "execution_count": 46,
   "metadata": {},
   "outputs": [
    {
     "name": "stdout",
     "output_type": "stream",
     "text": [
      "[[7 7 7]\n",
      " [7 7 7]]\n"
     ]
    }
   ],
   "source": [
    "array7s =np.full((number_rows, number_columns), 7)\n",
    "print(array7s)"
   ]
  },
  {
   "cell_type": "code",
   "execution_count": 20,
   "metadata": {},
   "outputs": [
    {
     "data": {
      "text/plain": [
       "dtype('<U21')"
      ]
     },
     "execution_count": 20,
     "metadata": {},
     "output_type": "execute_result"
    }
   ],
   "source": [
    "charArray1.dtype"
   ]
  },
  {
   "cell_type": "code",
   "execution_count": 61,
   "metadata": {},
   "outputs": [
    {
     "name": "stdout",
     "output_type": "stream",
     "text": [
      "[10 13 16 19 22 25]\n"
     ]
    }
   ],
   "source": [
    "## create an array of evenly spaced values\n",
    "start = 10\n",
    "end = 26\n",
    "step = 3\n",
    "\n",
    "evenlyStep = np.arange(start, end, step)\n",
    "print(evenlyStep)"
   ]
  },
  {
   "cell_type": "code",
   "execution_count": 62,
   "metadata": {},
   "outputs": [
    {
     "name": "stdout",
     "output_type": "stream",
     "text": [
      "[10 14 18 22 26]\n"
     ]
    }
   ],
   "source": [
    "## create an array with line space\n",
    "number_samples = 5\n",
    "evenlySample = np.linspace(start, end, number_samples, dtype='int')\n",
    "print(evenlySample)\n"
   ]
  },
  {
   "cell_type": "code",
   "execution_count": 64,
   "metadata": {},
   "outputs": [
    {
     "name": "stdout",
     "output_type": "stream",
     "text": [
      "[[1. 0. 0.]\n",
      " [0. 1. 0.]\n",
      " [0. 0. 1.]]\n"
     ]
    }
   ],
   "source": [
    "## create an identity matrix\n",
    "identity = np.eye(3)\n",
    "print(identity)"
   ]
  },
  {
   "cell_type": "code",
   "execution_count": 67,
   "metadata": {},
   "outputs": [
    {
     "name": "stdout",
     "output_type": "stream",
     "text": [
      "[[0.64450762 0.20735519 0.01041911]\n",
      " [0.01031066 0.74050939 0.05054346]]\n"
     ]
    }
   ],
   "source": [
    "## generate numbers between 0.0 and 1.0\n",
    "\n",
    "random01 = np.random.random((2,3))\n",
    "print(random01)"
   ]
  },
  {
   "cell_type": "code",
   "execution_count": 81,
   "metadata": {},
   "outputs": [
    {
     "name": "stdout",
     "output_type": "stream",
     "text": [
      "[[ 1  4  1]\n",
      " [ 2  0 10]]\n"
     ]
    }
   ],
   "source": [
    "## \n",
    "randoNum = np.random.randint(0, 11, (2,3))\n",
    "print(randoNum)"
   ]
  },
  {
   "cell_type": "code",
   "execution_count": 86,
   "metadata": {},
   "outputs": [
    {
     "name": "stdout",
     "output_type": "stream",
     "text": [
      "[[20.21442486 10.75738027 22.04351313]\n",
      " [22.83407889 23.86281334 13.50140995]]\n"
     ]
    }
   ],
   "source": [
    "randomFloat = np.random.uniform(10.5,25.5, (2,3))\n",
    "print(randomFloat)"
   ]
  },
  {
   "cell_type": "code",
   "execution_count": 88,
   "metadata": {},
   "outputs": [
    {
     "name": "stdout",
     "output_type": "stream",
     "text": [
      "[[22.24012306 20.48405069 23.08422586]\n",
      " [13.86571429 10.75259799 24.24784085]]\n"
     ]
    }
   ],
   "source": [
    "minval = 10.5\n",
    "maxval =25.5\n",
    "randomFloat = np.random.uniform(minval, maxval, (2,3))\n",
    "print(randomFloat)"
   ]
  },
  {
   "cell_type": "code",
   "execution_count": 89,
   "metadata": {},
   "outputs": [
    {
     "name": "stdout",
     "output_type": "stream",
     "text": [
      "a has dimensions: 2\n",
      "a has shape: (2, 3)\n",
      "a has size: 6\n",
      "a has data type: int64\n"
     ]
    }
   ],
   "source": [
    "## array inspection, indexing and slicing\n",
    "a = np.array([[4,6,7], [7,9,11]] )\n",
    "\n",
    "## find the dimensions of the array\n",
    "print(\"a has dimensions:\", a.ndim)\n",
    "print(\"a has shape:\", a.shape)\n",
    "print(\"a has size:\", a.size)\n",
    "print(\"a has data type:\", a.dtype)\n"
   ]
  },
  {
   "cell_type": "code",
   "execution_count": 90,
   "metadata": {},
   "outputs": [
    {
     "name": "stdout",
     "output_type": "stream",
     "text": [
      "[[ 4  6  7]\n",
      " [ 7  9 11]]\n"
     ]
    }
   ],
   "source": [
    "print(a)\n"
   ]
  },
  {
   "cell_type": "code",
   "execution_count": 95,
   "metadata": {},
   "outputs": [
    {
     "data": {
      "text/plain": [
       "array([ 7,  9, 11])"
      ]
     },
     "execution_count": 95,
     "metadata": {},
     "output_type": "execute_result"
    }
   ],
   "source": [
    "## inspecting the array\n",
    "a[1,0:3]"
   ]
  },
  {
   "cell_type": "code",
   "execution_count": 96,
   "metadata": {},
   "outputs": [
    {
     "data": {
      "text/plain": [
       "array([6, 9])"
      ]
     },
     "execution_count": 96,
     "metadata": {},
     "output_type": "execute_result"
    }
   ],
   "source": [
    "a[0:2,1]"
   ]
  },
  {
   "cell_type": "code",
   "execution_count": 98,
   "metadata": {},
   "outputs": [
    {
     "data": {
      "text/plain": [
       "array([ 4,  6,  7,  7,  9, 11])"
      ]
     },
     "execution_count": 98,
     "metadata": {},
     "output_type": "execute_result"
    }
   ],
   "source": [
    "a[a>3]"
   ]
  },
  {
   "cell_type": "code",
   "execution_count": 99,
   "metadata": {},
   "outputs": [
    {
     "name": "stdout",
     "output_type": "stream",
     "text": [
      "[[5 6 7]\n",
      " [1 4 5]\n",
      " [2 2 2]]\n"
     ]
    }
   ],
   "source": [
    "##diagonal of array\n",
    "b= np.array([[5,6,7],[1,4,5],[2,2,2]])\n",
    "print(b)"
   ]
  },
  {
   "cell_type": "code",
   "execution_count": 100,
   "metadata": {},
   "outputs": [
    {
     "data": {
      "text/plain": [
       "array([5, 4, 2])"
      ]
     },
     "execution_count": 100,
     "metadata": {},
     "output_type": "execute_result"
    }
   ],
   "source": [
    "np.diag(b)"
   ]
  },
  {
   "cell_type": "code",
   "execution_count": 108,
   "metadata": {},
   "outputs": [
    {
     "name": "stdout",
     "output_type": "stream",
     "text": [
      "[0 2 4 5 3 7 8 9 5 1]\n",
      "[ 0  2  4 -5 -3 -7  8 -9 -5 -1]\n"
     ]
    }
   ],
   "source": [
    "## Find odd numbers and replace with their negative numbers\n",
    "\n",
    "task_array=[0,2,4,5,3,7,8,9,5,1]\n",
    "\n",
    "arr=np.array([0,2,4,5,3,7,8,9,5,1])\n",
    "print(arr)\n",
    "\n",
    "## find the odd numbers\n",
    "odd_numbers = arr%2==1\n",
    "\n",
    "## replace the odd numbers with their negative numbers\n",
    "arr[odd_numbers] = -1 * arr[odd_numbers]\n",
    "print(arr)"
   ]
  },
  {
   "cell_type": "code",
   "execution_count": 109,
   "metadata": {},
   "outputs": [
    {
     "name": "stdout",
     "output_type": "stream",
     "text": [
      "[ 0  2  4 -5 -3 -5 -1]\n"
     ]
    }
   ],
   "source": [
    "## generate a numpy array  \n",
    "arr = np.array([0,2,4,5,3,7,8,9,5,1])\n",
    "\n",
    "## find the odd number and replace them with their negative numbers, but for numbers below 7\n",
    "arr[(arr%2==1) & (arr<7)] = -1 * arr[(arr%2==1) & (arr<7)]\n",
    "\n",
    "# print the output when they are below 7\n",
    "print(arr[arr<7])\n",
    "\n",
    "##"
   ]
  }
 ],
 "metadata": {
  "kernelspec": {
   "display_name": "Python 3",
   "language": "python",
   "name": "python3"
  },
  "language_info": {
   "codemirror_mode": {
    "name": "ipython",
    "version": 3
   },
   "file_extension": ".py",
   "mimetype": "text/x-python",
   "name": "python",
   "nbconvert_exporter": "python",
   "pygments_lexer": "ipython3",
   "version": "3.12.0"
  }
 },
 "nbformat": 4,
 "nbformat_minor": 2
}
