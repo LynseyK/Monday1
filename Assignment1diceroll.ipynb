{
 "cells": [
  {
   "cell_type": "code",
   "execution_count": 2,
   "metadata": {},
   "outputs": [
    {
     "name": "stdout",
     "output_type": "stream",
     "text": [
      "The number you've rolled is 1\n",
      "The number you've rolled is 3\n",
      "Answer must be yes or no\n",
      "Thank you for playing\n"
     ]
    }
   ],
   "source": [
    "import random\n",
    "\n",
    "\n",
    "## Check if the user wants to roll\n",
    "while True:\n",
    "    Roll = (input(\"Would you like to roll the Dice? :yes/no\"))\n",
    "## Roll the dice if the answer is yes\n",
    "    if Roll.lower() == \"yes\":\n",
    "        dice_number = random.randint(1,6)\n",
    "        print(f\"The number you've rolled is {dice_number}\") \n",
    "##End the game if the answer is no\n",
    "    elif Roll.lower() ==\"no\":\n",
    "        print(\"Thank you for playing\")\n",
    "        break\n",
    "## Redirect them to the question again if the input is not yes or no\n",
    "    else:\n",
    "        print(\"Answer must be yes or no\")\n",
    "\n",
    "    "
   ]
  }
 ],
 "metadata": {
  "kernelspec": {
   "display_name": "Python 3",
   "language": "python",
   "name": "python3"
  },
  "language_info": {
   "codemirror_mode": {
    "name": "ipython",
    "version": 3
   },
   "file_extension": ".py",
   "mimetype": "text/x-python",
   "name": "python",
   "nbconvert_exporter": "python",
   "pygments_lexer": "ipython3",
   "version": "3.12.0"
  }
 },
 "nbformat": 4,
 "nbformat_minor": 2
}
