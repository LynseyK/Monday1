{
 "cells": [
  {
   "cell_type": "code",
   "execution_count": 51,
   "metadata": {},
   "outputs": [
    {
     "name": "stdout",
     "output_type": "stream",
     "text": [
      "Answer must be yes or no\n",
      "Thank you for playing\n"
     ]
    }
   ],
   "source": [
    "import random\n",
    "\n",
    "\n",
    "## Check if the user wants to roll\n",
    "while True:\n",
    "    Roll = (input(\"Would you like to roll the Dice? :yes/no\"))\n",
    "    if Roll.lower() == \"yes\":\n",
    "        dice_number = random.randint(1,6)\n",
    "        print(f\"The number you've rolled is {dice_number}\") \n",
    "    elif Roll.lower() ==\"no\":\n",
    "        print(\"Thank you for playing\")\n",
    "        break\n",
    "    else:\n",
    "        print(\"Answer must be yes or no\")\n",
    "\n",
    "    "
   ]
  }
 ],
 "metadata": {
  "kernelspec": {
   "display_name": "Python 3",
   "language": "python",
   "name": "python3"
  },
  "language_info": {
   "codemirror_mode": {
    "name": "ipython",
    "version": 3
   },
   "file_extension": ".py",
   "mimetype": "text/x-python",
   "name": "python",
   "nbconvert_exporter": "python",
   "pygments_lexer": "ipython3",
   "version": "3.12.0"
  }
 },
 "nbformat": 4,
 "nbformat_minor": 2
}
