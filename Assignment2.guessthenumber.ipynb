{
 "cells": [
  {
   "cell_type": "code",
   "execution_count": null,
   "metadata": {},
   "outputs": [],
   "source": []
  },
  {
   "cell_type": "code",
   "execution_count": 7,
   "metadata": {},
   "outputs": [
    {
     "name": "stdout",
     "output_type": "stream",
     "text": [
      "Incorrect..the number is too low\n",
      "Incorrect..the number is too low\n",
      "Incorrect..the number is too low\n",
      "Incorrect..the number is too low\n",
      "Incorrect..the number is too low\n",
      "Thank you for playing\n"
     ]
    }
   ],
   "source": [
    "## choose random number for user to guess\n",
    "import random\n",
    "lower_bound = 1\n",
    "upper_bound = 100\n",
    "generated_number = random.randint(lower_bound,upper_bound)\n",
    " \n",
    " \n",
    "## create loop for user to guess random number until they are correct\n",
    "while True:\n",
    "    try:\n",
    "        guess = input(f\"Please guess the correct number between {lower_bound} to {upper_bound}. Enter 0 to quit game\") ## asks user to enter their guess\n",
    "        if int(guess) == 0:\n",
    "            print(\"Thank you for playing\")\n",
    "            break\n",
    "        elif int(guess) > generated_number: ## if/else statements directing user on whether number is too low or high\n",
    "            print(\"Incorrect..the number is too high\")\n",
    "        elif int(guess) < generated_number:\n",
    "            print(\"Incorrect..the number is too low\")\n",
    "        else:\n",
    "            print(f\"Congratulations! The correct number is {generated_number}\")\n",
    "            break ## ends the loop once user has guessed correct number\n",
    "    except ValueError:\n",
    "        print(\"That's not a valid integer. Please enter an integer\")\n",
    " \n",
    " "
   ]
  }
 ],
 "metadata": {
  "kernelspec": {
   "display_name": "Python 3",
   "language": "python",
   "name": "python3"
  },
  "language_info": {
   "codemirror_mode": {
    "name": "ipython",
    "version": 3
   },
   "file_extension": ".py",
   "mimetype": "text/x-python",
   "name": "python",
   "nbconvert_exporter": "python",
   "pygments_lexer": "ipython3",
   "version": "3.12.0"
  }
 },
 "nbformat": 4,
 "nbformat_minor": 2
}
